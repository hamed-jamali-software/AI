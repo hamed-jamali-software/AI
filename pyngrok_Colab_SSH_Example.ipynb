{
  "nbformat": 4,
  "nbformat_minor": 0,
  "metadata": {
    "colab": {
      "provenance": [],
      "include_colab_link": true
    },
    "kernelspec": {
      "name": "python3",
      "display_name": "Python 3"
    }
  },
  "cells": [
    {
      "cell_type": "markdown",
      "metadata": {
        "id": "view-in-github",
        "colab_type": "text"
      },
      "source": [
        "<a href=\"https://colab.research.google.com/github/hamed-jamali-software/AI/blob/main/pyngrok_Colab_SSH_Example.ipynb\" target=\"_parent\"><img src=\"https://colab.research.google.com/assets/colab-badge.svg\" alt=\"Open In Colab\"/></a>"
      ]
    },
    {
      "cell_type": "code",
      "metadata": {
        "id": "zKDAYQi4wJbY",
        "outputId": "0640dc36-cf0c-425e-b29c-6c2bb8745aee",
        "colab": {
          "base_uri": "https://localhost:8080/"
        }
      },
      "source": [
        "import os\n",
        "import getpass\n",
        "\n",
        "# Prompt for a password that will be set for the SSH root user\n",
        "print(\"Enter a password for SSH access\")\n",
        "password = getpass.getpass()\n",
        "os.system(f\"echo root:{password} | chpasswd\")\n",
        "\n",
        "# Install\n",
        "os.system(\"apt-get install -y openssh-server\")\n",
        "\n",
        "# Setup and start the SSH server\n",
        "if not os.path.exists(\"/var/run/sshd\"):\n",
        "  os.makedirs(\"/var/run/sshd\")\n",
        "\n",
        "os.system(\"echo 'PermitRootLogin yes' >> /etc/ssh/sshd_config\")\n",
        "os.system(\"echo 'PasswordAuthentication yes' >> /etc/ssh/sshd_config\")\n",
        "\n",
        "os.system(\"/usr/sbin/sshd\")"
      ],
      "execution_count": 1,
      "outputs": [
        {
          "name": "stdout",
          "output_type": "stream",
          "text": [
            "Enter a password for SSH access\n",
            "··········\n"
          ]
        },
        {
          "output_type": "execute_result",
          "data": {
            "text/plain": [
              "0"
            ]
          },
          "metadata": {},
          "execution_count": 1
        }
      ]
    },
    {
      "cell_type": "code",
      "metadata": {
        "id": "W8YjINsA3svL",
        "colab": {
          "base_uri": "https://localhost:8080/"
        },
        "outputId": "4f7dc64e-5b18-4428-dbea-d3e3fb1b02aa"
      },
      "source": [
        "from google.colab import drive\n",
        "\n",
        "drive.mount(\"/content/drive\")"
      ],
      "execution_count": 2,
      "outputs": [
        {
          "output_type": "stream",
          "name": "stdout",
          "text": [
            "Mounted at /content/drive\n"
          ]
        }
      ]
    },
    {
      "cell_type": "code",
      "metadata": {
        "id": "nwuh2gDAx6Mh",
        "colab": {
          "base_uri": "https://localhost:8080/"
        },
        "outputId": "94970d07-15cc-407b-b533-9a987762f41a"
      },
      "source": [
        "!pip install pyngrok"
      ],
      "execution_count": 3,
      "outputs": [
        {
          "output_type": "stream",
          "name": "stdout",
          "text": [
            "Collecting pyngrok\n",
            "  Downloading pyngrok-7.1.6-py3-none-any.whl (22 kB)\n",
            "Requirement already satisfied: PyYAML>=5.1 in /usr/local/lib/python3.10/dist-packages (from pyngrok) (6.0.1)\n",
            "Installing collected packages: pyngrok\n",
            "Successfully installed pyngrok-7.1.6\n"
          ]
        }
      ]
    },
    {
      "cell_type": "code",
      "metadata": {
        "id": "hvTNe-Blx7vJ",
        "colab": {
          "base_uri": "https://localhost:8080/"
        },
        "outputId": "d61d62e2-3289-4ead-8862-0a958f541ee5"
      },
      "source": [
        "import getpass\n",
        "\n",
        "from pyngrok import ngrok, conf\n",
        "\n",
        "print(\"Enter your authtoken, which can be copied from https://dashboard.ngrok.com/get-started/your-authtoken\")\n",
        "conf.get_default().auth_token = getpass.getpass()\n",
        "\n",
        "# Open a TCP ngrok tunnel to the SSH server\n",
        "connection_string = ngrok.connect(22, \"tcp\").public_url\n",
        "\n",
        "ssh_url, port = connection_string.strip(\"tcp://\").split(\":\")\n",
        "print(f\" * ngrok tunnel available, access with `ssh root@{ssh_url} -p{port}`\")"
      ],
      "execution_count": 4,
      "outputs": [
        {
          "output_type": "stream",
          "name": "stdout",
          "text": [
            "Enter your authtoken, which can be copied from https://dashboard.ngrok.com/get-started/your-authtoken\n",
            "··········\n",
            " * ngrok tunnel available, access with `ssh root@0.tcp.ngrok.io -p16744`\n"
          ]
        }
      ]
    }
  ]
}