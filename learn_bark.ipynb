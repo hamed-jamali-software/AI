{
  "nbformat": 4,
  "nbformat_minor": 0,
  "metadata": {
    "colab": {
      "provenance": [],
      "authorship_tag": "ABX9TyMM7kWoEbhzZN1J1U8wlQys",
      "include_colab_link": true
    },
    "kernelspec": {
      "name": "python3",
      "display_name": "Python 3"
    },
    "language_info": {
      "name": "python"
    }
  },
  "cells": [
    {
      "cell_type": "markdown",
      "metadata": {
        "id": "view-in-github",
        "colab_type": "text"
      },
      "source": [
        "<a href=\"https://colab.research.google.com/github/hamed-jamali-software/AI/blob/main/learn_bark.ipynb\" target=\"_parent\"><img src=\"https://colab.research.google.com/assets/colab-badge.svg\" alt=\"Open In Colab\"/></a>"
      ]
    },
    {
      "cell_type": "code",
      "execution_count": null,
      "metadata": {
        "id": "K52w3EZUBNEU"
      },
      "outputs": [],
      "source": [
        "!pip install git+https://github.com/suno-ai/bark.git\n"
      ]
    },
    {
      "cell_type": "code",
      "source": [
        "from bark import SAMPLE_RATE, generate_audio, preload_models\n",
        "from scipy.io.wavfile import write as write_wav\n",
        "from IPython.display import Audio"
      ],
      "metadata": {
        "id": "rg333eR2B3Hd"
      },
      "execution_count": 2,
      "outputs": []
    },
    {
      "cell_type": "code",
      "source": [
        "# download and load all models\n",
        "preload_models()"
      ],
      "metadata": {
        "id": "KtISQuslB_FX"
      },
      "execution_count": null,
      "outputs": []
    },
    {
      "cell_type": "code",
      "source": [
        "# generate audio from text\n",
        "text_prompt = \"\"\"\n",
        "     Hello, my name is Suno. And, uh — and I like pizza. [laughs]\n",
        "     But I also have other interests such as playing tic tac toe.\n",
        "\"\"\"\n",
        "audio_array = generate_audio(text_prompt)"
      ],
      "metadata": {
        "colab": {
          "base_uri": "https://localhost:8080/"
        },
        "id": "bkEZnwJpCTGg",
        "outputId": "c3717a4a-5305-4601-dc2e-be4e0e45753b"
      },
      "execution_count": null,
      "outputs": [
        {
          "output_type": "stream",
          "name": "stderr",
          "text": [
            "100%|██████████| 693/693 [02:26<00:00,  4.72it/s]\n",
            "100%|██████████| 35/35 [12:48<00:00, 21.97s/it]\n"
          ]
        }
      ]
    },
    {
      "cell_type": "code",
      "source": [
        "# save audio to disk\n",
        "write_wav(\"bark_generation.wav\", SAMPLE_RATE, audio_array)\n",
        ""
      ],
      "metadata": {
        "id": "8SKythpwCpAA"
      },
      "execution_count": null,
      "outputs": []
    },
    {
      "cell_type": "code",
      "source": [
        "# play text in notebook\n",
        "Audio(audio_array, rate=SAMPLE_RATE)"
      ],
      "metadata": {
        "id": "dSMnGV75CpoQ"
      },
      "execution_count": null,
      "outputs": []
    }
  ]
}